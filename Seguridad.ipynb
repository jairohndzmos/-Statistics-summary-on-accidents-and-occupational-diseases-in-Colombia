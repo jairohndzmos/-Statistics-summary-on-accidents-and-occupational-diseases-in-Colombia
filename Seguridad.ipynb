{
 "cells": [
  {
   "cell_type": "code",
   "execution_count": 148,
   "metadata": {},
   "outputs": [],
   "source": [
    "import pandas as pd\n",
    "import matplotlib.pyplot as plt\n",
    "import seaborn as sns"
   ]
  },
  {
   "cell_type": "code",
   "execution_count": 149,
   "metadata": {},
   "outputs": [],
   "source": [
    "df = pd.read_csv('Consolidado_estad_sticas_accidentes_y_enfermedades_laborales_-_Del_Grupo_de_Promoci_n_y_prevenci_n_de_la_Direcci_n_de_Riesgos_de_Laborales_del_Ministerio_del_Trabajo.csv', sep = \",\")"
   ]
  },
  {
   "cell_type": "code",
   "execution_count": 289,
   "metadata": {},
   "outputs": [
    {
     "data": {
      "text/html": [
       "<div>\n",
       "<style scoped>\n",
       "    .dataframe tbody tr th:only-of-type {\n",
       "        vertical-align: middle;\n",
       "    }\n",
       "\n",
       "    .dataframe tbody tr th {\n",
       "        vertical-align: top;\n",
       "    }\n",
       "\n",
       "    .dataframe thead th {\n",
       "        text-align: right;\n",
       "    }\n",
       "</style>\n",
       "<table border=\"1\" class=\"dataframe\">\n",
       "  <thead>\n",
       "    <tr style=\"text-align: right;\">\n",
       "      <th></th>\n",
       "      <th>Mes</th>\n",
       "      <th>Año</th>\n",
       "      <th>Empresas Afiliadas</th>\n",
       "      <th>Afiliados Dependientes</th>\n",
       "      <th>Afiliados Independientes</th>\n",
       "      <th>Total Afilados</th>\n",
       "      <th>Presuntos Accidentes de Trabajo</th>\n",
       "      <th>Accidentes de Trabajo Calificados</th>\n",
       "      <th>Presuntas Enfermedades Laborales</th>\n",
       "      <th>Enfermedades Laborales Calificadas</th>\n",
       "      <th>Muertes Accidentes de Trabajo Reportadas</th>\n",
       "      <th>Muertes Enfermedades Laborales Reportadas</th>\n",
       "      <th>Muertes Accidentes de Trabajo Calificadas</th>\n",
       "      <th>Muertes Enfermedades Laborales Calificadas</th>\n",
       "      <th>Nueva Pensión Invalidez Pagada Accidentes de Trabajo</th>\n",
       "      <th>Nueva Pensión Invalidez Pagada Enfermedad Laboral</th>\n",
       "      <th>Incapacidad Permanente Parcial Pagada por Accidente de Trabajo</th>\n",
       "      <th>Incapacidad Permanente Parcial Pagada por Enfermedad Laboral</th>\n",
       "    </tr>\n",
       "  </thead>\n",
       "  <tbody>\n",
       "    <tr>\n",
       "      <th>0</th>\n",
       "      <td>ENERO</td>\n",
       "      <td>2017</td>\n",
       "      <td>710749</td>\n",
       "      <td>9193033</td>\n",
       "      <td>424847</td>\n",
       "      <td>9617880</td>\n",
       "      <td>53515</td>\n",
       "      <td>49451</td>\n",
       "      <td>891</td>\n",
       "      <td>718</td>\n",
       "      <td>62</td>\n",
       "      <td>1</td>\n",
       "      <td>41</td>\n",
       "      <td>1</td>\n",
       "      <td>28</td>\n",
       "      <td>5</td>\n",
       "      <td>679</td>\n",
       "      <td>419</td>\n",
       "    </tr>\n",
       "    <tr>\n",
       "      <th>1</th>\n",
       "      <td>FEBRERO</td>\n",
       "      <td>2017</td>\n",
       "      <td>721453</td>\n",
       "      <td>9465116</td>\n",
       "      <td>544022</td>\n",
       "      <td>10009138</td>\n",
       "      <td>56976</td>\n",
       "      <td>54574</td>\n",
       "      <td>1007</td>\n",
       "      <td>660</td>\n",
       "      <td>48</td>\n",
       "      <td>-</td>\n",
       "      <td>54</td>\n",
       "      <td>-</td>\n",
       "      <td>54</td>\n",
       "      <td>11</td>\n",
       "      <td>813</td>\n",
       "      <td>429</td>\n",
       "    </tr>\n",
       "    <tr>\n",
       "      <th>2</th>\n",
       "      <td>MARZO</td>\n",
       "      <td>2017</td>\n",
       "      <td>727823</td>\n",
       "      <td>9612486</td>\n",
       "      <td>605740</td>\n",
       "      <td>10218226</td>\n",
       "      <td>65718</td>\n",
       "      <td>58818</td>\n",
       "      <td>1108</td>\n",
       "      <td>811</td>\n",
       "      <td>56</td>\n",
       "      <td>-</td>\n",
       "      <td>38</td>\n",
       "      <td>-</td>\n",
       "      <td>35</td>\n",
       "      <td>9</td>\n",
       "      <td>766</td>\n",
       "      <td>393</td>\n",
       "    </tr>\n",
       "    <tr>\n",
       "      <th>3</th>\n",
       "      <td>ABRIL</td>\n",
       "      <td>2017</td>\n",
       "      <td>732917</td>\n",
       "      <td>9660683</td>\n",
       "      <td>638548</td>\n",
       "      <td>10299231</td>\n",
       "      <td>54313</td>\n",
       "      <td>51275</td>\n",
       "      <td>1139</td>\n",
       "      <td>592</td>\n",
       "      <td>63</td>\n",
       "      <td>-</td>\n",
       "      <td>34</td>\n",
       "      <td>-</td>\n",
       "      <td>27</td>\n",
       "      <td>3</td>\n",
       "      <td>647</td>\n",
       "      <td>348</td>\n",
       "    </tr>\n",
       "    <tr>\n",
       "      <th>4</th>\n",
       "      <td>MAYO</td>\n",
       "      <td>2017</td>\n",
       "      <td>737705</td>\n",
       "      <td>9649039</td>\n",
       "      <td>656334</td>\n",
       "      <td>10305373</td>\n",
       "      <td>63127</td>\n",
       "      <td>60255</td>\n",
       "      <td>1314</td>\n",
       "      <td>851</td>\n",
       "      <td>78</td>\n",
       "      <td>-</td>\n",
       "      <td>58</td>\n",
       "      <td>-</td>\n",
       "      <td>31</td>\n",
       "      <td>4</td>\n",
       "      <td>902</td>\n",
       "      <td>431</td>\n",
       "    </tr>\n",
       "    <tr>\n",
       "      <th>5</th>\n",
       "      <td>JUNIO</td>\n",
       "      <td>2017</td>\n",
       "      <td>742031</td>\n",
       "      <td>9550005</td>\n",
       "      <td>657235</td>\n",
       "      <td>10207240</td>\n",
       "      <td>59504</td>\n",
       "      <td>54551</td>\n",
       "      <td>1440</td>\n",
       "      <td>989</td>\n",
       "      <td>79</td>\n",
       "      <td>2</td>\n",
       "      <td>45</td>\n",
       "      <td>-</td>\n",
       "      <td>30</td>\n",
       "      <td>6</td>\n",
       "      <td>748</td>\n",
       "      <td>433</td>\n",
       "    </tr>\n",
       "    <tr>\n",
       "      <th>6</th>\n",
       "      <td>JULIO</td>\n",
       "      <td>2017</td>\n",
       "      <td>743885</td>\n",
       "      <td>9550043</td>\n",
       "      <td>662744</td>\n",
       "      <td>10212787</td>\n",
       "      <td>57823</td>\n",
       "      <td>52078</td>\n",
       "      <td>1408</td>\n",
       "      <td>877</td>\n",
       "      <td>83</td>\n",
       "      <td>-</td>\n",
       "      <td>64</td>\n",
       "      <td>-</td>\n",
       "      <td>39</td>\n",
       "      <td>8</td>\n",
       "      <td>838</td>\n",
       "      <td>402</td>\n",
       "    </tr>\n",
       "    <tr>\n",
       "      <th>7</th>\n",
       "      <td>AGOSTO</td>\n",
       "      <td>2017</td>\n",
       "      <td>748882</td>\n",
       "      <td>9674004</td>\n",
       "      <td>707045</td>\n",
       "      <td>10381049</td>\n",
       "      <td>63134</td>\n",
       "      <td>56242</td>\n",
       "      <td>1337</td>\n",
       "      <td>742</td>\n",
       "      <td>76</td>\n",
       "      <td>-</td>\n",
       "      <td>48</td>\n",
       "      <td>-</td>\n",
       "      <td>44</td>\n",
       "      <td>5</td>\n",
       "      <td>791</td>\n",
       "      <td>351</td>\n",
       "    </tr>\n",
       "    <tr>\n",
       "      <th>8</th>\n",
       "      <td>SEPTIEMBRE</td>\n",
       "      <td>2017</td>\n",
       "      <td>755069</td>\n",
       "      <td>9774922</td>\n",
       "      <td>729972</td>\n",
       "      <td>10504894</td>\n",
       "      <td>63828</td>\n",
       "      <td>57436</td>\n",
       "      <td>1072</td>\n",
       "      <td>697</td>\n",
       "      <td>79</td>\n",
       "      <td>-</td>\n",
       "      <td>54</td>\n",
       "      <td>-</td>\n",
       "      <td>40</td>\n",
       "      <td>5</td>\n",
       "      <td>794</td>\n",
       "      <td>391</td>\n",
       "    </tr>\n",
       "    <tr>\n",
       "      <th>9</th>\n",
       "      <td>OCTUBRE</td>\n",
       "      <td>2017</td>\n",
       "      <td>760154</td>\n",
       "      <td>9787601</td>\n",
       "      <td>754812</td>\n",
       "      <td>10542413</td>\n",
       "      <td>62175</td>\n",
       "      <td>57765</td>\n",
       "      <td>1351</td>\n",
       "      <td>866</td>\n",
       "      <td>60</td>\n",
       "      <td>2</td>\n",
       "      <td>38</td>\n",
       "      <td>-</td>\n",
       "      <td>49</td>\n",
       "      <td>5</td>\n",
       "      <td>844</td>\n",
       "      <td>479</td>\n",
       "    </tr>\n",
       "  </tbody>\n",
       "</table>\n",
       "</div>"
      ],
      "text/plain": [
       "          Mes   Año  Empresas Afiliadas  Afiliados Dependientes  \\\n",
       "0       ENERO  2017              710749                 9193033   \n",
       "1     FEBRERO  2017              721453                 9465116   \n",
       "2       MARZO  2017              727823                 9612486   \n",
       "3       ABRIL  2017              732917                 9660683   \n",
       "4        MAYO  2017              737705                 9649039   \n",
       "5       JUNIO  2017              742031                 9550005   \n",
       "6       JULIO  2017              743885                 9550043   \n",
       "7      AGOSTO  2017              748882                 9674004   \n",
       "8  SEPTIEMBRE  2017              755069                 9774922   \n",
       "9     OCTUBRE  2017              760154                 9787601   \n",
       "\n",
       "   Afiliados Independientes  Total Afilados  Presuntos Accidentes de Trabajo  \\\n",
       "0                    424847         9617880                            53515   \n",
       "1                    544022        10009138                            56976   \n",
       "2                    605740        10218226                            65718   \n",
       "3                    638548        10299231                            54313   \n",
       "4                    656334        10305373                            63127   \n",
       "5                    657235        10207240                            59504   \n",
       "6                    662744        10212787                            57823   \n",
       "7                    707045        10381049                            63134   \n",
       "8                    729972        10504894                            63828   \n",
       "9                    754812        10542413                            62175   \n",
       "\n",
       "   Accidentes de Trabajo Calificados  Presuntas Enfermedades Laborales  \\\n",
       "0                              49451                               891   \n",
       "1                              54574                              1007   \n",
       "2                              58818                              1108   \n",
       "3                              51275                              1139   \n",
       "4                              60255                              1314   \n",
       "5                              54551                              1440   \n",
       "6                              52078                              1408   \n",
       "7                              56242                              1337   \n",
       "8                              57436                              1072   \n",
       "9                              57765                              1351   \n",
       "\n",
       "   Enfermedades Laborales Calificadas  \\\n",
       "0                                 718   \n",
       "1                                 660   \n",
       "2                                 811   \n",
       "3                                 592   \n",
       "4                                 851   \n",
       "5                                 989   \n",
       "6                                 877   \n",
       "7                                 742   \n",
       "8                                 697   \n",
       "9                                 866   \n",
       "\n",
       "   Muertes Accidentes de Trabajo Reportadas  \\\n",
       "0                                        62   \n",
       "1                                        48   \n",
       "2                                        56   \n",
       "3                                        63   \n",
       "4                                        78   \n",
       "5                                        79   \n",
       "6                                        83   \n",
       "7                                        76   \n",
       "8                                        79   \n",
       "9                                        60   \n",
       "\n",
       "  Muertes Enfermedades Laborales Reportadas  \\\n",
       "0                                         1   \n",
       "1                                         -   \n",
       "2                                         -   \n",
       "3                                         -   \n",
       "4                                         -   \n",
       "5                                         2   \n",
       "6                                         -   \n",
       "7                                         -   \n",
       "8                                         -   \n",
       "9                                         2   \n",
       "\n",
       "   Muertes Accidentes de Trabajo Calificadas  \\\n",
       "0                                         41   \n",
       "1                                         54   \n",
       "2                                         38   \n",
       "3                                         34   \n",
       "4                                         58   \n",
       "5                                         45   \n",
       "6                                         64   \n",
       "7                                         48   \n",
       "8                                         54   \n",
       "9                                         38   \n",
       "\n",
       "  Muertes Enfermedades Laborales Calificadas  \\\n",
       "0                                          1   \n",
       "1                                          -   \n",
       "2                                          -   \n",
       "3                                          -   \n",
       "4                                          -   \n",
       "5                                          -   \n",
       "6                                          -   \n",
       "7                                          -   \n",
       "8                                          -   \n",
       "9                                          -   \n",
       "\n",
       "   Nueva Pensión Invalidez Pagada Accidentes de Trabajo  \\\n",
       "0                                                 28      \n",
       "1                                                 54      \n",
       "2                                                 35      \n",
       "3                                                 27      \n",
       "4                                                 31      \n",
       "5                                                 30      \n",
       "6                                                 39      \n",
       "7                                                 44      \n",
       "8                                                 40      \n",
       "9                                                 49      \n",
       "\n",
       "   Nueva Pensión Invalidez Pagada Enfermedad Laboral  \\\n",
       "0                                                  5   \n",
       "1                                                 11   \n",
       "2                                                  9   \n",
       "3                                                  3   \n",
       "4                                                  4   \n",
       "5                                                  6   \n",
       "6                                                  8   \n",
       "7                                                  5   \n",
       "8                                                  5   \n",
       "9                                                  5   \n",
       "\n",
       "   Incapacidad Permanente Parcial Pagada por Accidente de Trabajo  \\\n",
       "0                                                679                \n",
       "1                                                813                \n",
       "2                                                766                \n",
       "3                                                647                \n",
       "4                                                902                \n",
       "5                                                748                \n",
       "6                                                838                \n",
       "7                                                791                \n",
       "8                                                794                \n",
       "9                                                844                \n",
       "\n",
       "   Incapacidad Permanente Parcial Pagada por Enfermedad Laboral  \n",
       "0                                                419             \n",
       "1                                                429             \n",
       "2                                                393             \n",
       "3                                                348             \n",
       "4                                                431             \n",
       "5                                                433             \n",
       "6                                                402             \n",
       "7                                                351             \n",
       "8                                                391             \n",
       "9                                                479             "
      ]
     },
     "execution_count": 289,
     "metadata": {},
     "output_type": "execute_result"
    }
   ],
   "source": [
    "df.head(10)"
   ]
  },
  {
   "cell_type": "code",
   "execution_count": 333,
   "metadata": {},
   "outputs": [
    {
     "data": {
      "text/html": [
       "<div>\n",
       "<style scoped>\n",
       "    .dataframe tbody tr th:only-of-type {\n",
       "        vertical-align: middle;\n",
       "    }\n",
       "\n",
       "    .dataframe tbody tr th {\n",
       "        vertical-align: top;\n",
       "    }\n",
       "\n",
       "    .dataframe thead th {\n",
       "        text-align: right;\n",
       "    }\n",
       "</style>\n",
       "<table border=\"1\" class=\"dataframe\">\n",
       "  <thead>\n",
       "    <tr style=\"text-align: right;\">\n",
       "      <th></th>\n",
       "      <th>count</th>\n",
       "      <th>mean</th>\n",
       "      <th>std</th>\n",
       "      <th>min</th>\n",
       "      <th>25%</th>\n",
       "      <th>50%</th>\n",
       "      <th>75%</th>\n",
       "      <th>max</th>\n",
       "    </tr>\n",
       "  </thead>\n",
       "  <tbody>\n",
       "    <tr>\n",
       "      <th>Año</th>\n",
       "      <td>24.0</td>\n",
       "      <td>2.017500e+03</td>\n",
       "      <td>0.510754</td>\n",
       "      <td>2017.0</td>\n",
       "      <td>2017.00</td>\n",
       "      <td>2017.5</td>\n",
       "      <td>2018.00</td>\n",
       "      <td>2018.0</td>\n",
       "    </tr>\n",
       "    <tr>\n",
       "      <th>Empresas Afiliadas</th>\n",
       "      <td>24.0</td>\n",
       "      <td>7.746118e+05</td>\n",
       "      <td>37652.018327</td>\n",
       "      <td>710749.0</td>\n",
       "      <td>743421.50</td>\n",
       "      <td>768441.0</td>\n",
       "      <td>804190.00</td>\n",
       "      <td>832853.0</td>\n",
       "    </tr>\n",
       "    <tr>\n",
       "      <th>Afiliados Dependientes</th>\n",
       "      <td>24.0</td>\n",
       "      <td>9.593749e+06</td>\n",
       "      <td>201284.755249</td>\n",
       "      <td>9193033.0</td>\n",
       "      <td>9528782.75</td>\n",
       "      <td>9615192.5</td>\n",
       "      <td>9760461.25</td>\n",
       "      <td>9852404.0</td>\n",
       "    </tr>\n",
       "    <tr>\n",
       "      <th>Afiliados Independientes</th>\n",
       "      <td>24.0</td>\n",
       "      <td>7.527135e+05</td>\n",
       "      <td>142328.398462</td>\n",
       "      <td>424847.0</td>\n",
       "      <td>657009.75</td>\n",
       "      <td>724984.5</td>\n",
       "      <td>882699.25</td>\n",
       "      <td>1021232.0</td>\n",
       "    </tr>\n",
       "    <tr>\n",
       "      <th>Total Afilados</th>\n",
       "      <td>24.0</td>\n",
       "      <td>1.034646e+07</td>\n",
       "      <td>305586.667273</td>\n",
       "      <td>9617880.0</td>\n",
       "      <td>10211400.25</td>\n",
       "      <td>10405973.5</td>\n",
       "      <td>10549500.50</td>\n",
       "      <td>10789493.0</td>\n",
       "    </tr>\n",
       "    <tr>\n",
       "      <th>Presuntos Accidentes de Trabajo</th>\n",
       "      <td>24.0</td>\n",
       "      <td>5.831162e+04</td>\n",
       "      <td>4423.635381</td>\n",
       "      <td>49906.0</td>\n",
       "      <td>54261.00</td>\n",
       "      <td>58939.5</td>\n",
       "      <td>61144.50</td>\n",
       "      <td>65718.0</td>\n",
       "    </tr>\n",
       "    <tr>\n",
       "      <th>Accidentes de Trabajo Calificados</th>\n",
       "      <td>24.0</td>\n",
       "      <td>5.420838e+04</td>\n",
       "      <td>3648.537477</td>\n",
       "      <td>46226.0</td>\n",
       "      <td>51877.25</td>\n",
       "      <td>54562.5</td>\n",
       "      <td>56897.25</td>\n",
       "      <td>60255.0</td>\n",
       "    </tr>\n",
       "    <tr>\n",
       "      <th>Presuntas Enfermedades Laborales</th>\n",
       "      <td>24.0</td>\n",
       "      <td>1.636917e+03</td>\n",
       "      <td>913.810699</td>\n",
       "      <td>891.0</td>\n",
       "      <td>1283.75</td>\n",
       "      <td>1424.0</td>\n",
       "      <td>1689.25</td>\n",
       "      <td>5645.0</td>\n",
       "    </tr>\n",
       "    <tr>\n",
       "      <th>Enfermedades Laborales Calificadas</th>\n",
       "      <td>24.0</td>\n",
       "      <td>8.374167e+02</td>\n",
       "      <td>113.609138</td>\n",
       "      <td>592.0</td>\n",
       "      <td>767.50</td>\n",
       "      <td>848.0</td>\n",
       "      <td>926.50</td>\n",
       "      <td>1082.0</td>\n",
       "    </tr>\n",
       "    <tr>\n",
       "      <th>Muertes Accidentes de Trabajo Reportadas</th>\n",
       "      <td>24.0</td>\n",
       "      <td>7.070833e+01</td>\n",
       "      <td>10.071394</td>\n",
       "      <td>48.0</td>\n",
       "      <td>62.75</td>\n",
       "      <td>72.0</td>\n",
       "      <td>78.25</td>\n",
       "      <td>89.0</td>\n",
       "    </tr>\n",
       "    <tr>\n",
       "      <th>Muertes Accidentes de Trabajo Calificadas</th>\n",
       "      <td>24.0</td>\n",
       "      <td>4.687500e+01</td>\n",
       "      <td>10.613005</td>\n",
       "      <td>27.0</td>\n",
       "      <td>38.00</td>\n",
       "      <td>45.0</td>\n",
       "      <td>56.00</td>\n",
       "      <td>64.0</td>\n",
       "    </tr>\n",
       "    <tr>\n",
       "      <th>Nueva Pensión Invalidez Pagada Accidentes de Trabajo</th>\n",
       "      <td>24.0</td>\n",
       "      <td>3.691667e+01</td>\n",
       "      <td>9.178977</td>\n",
       "      <td>22.0</td>\n",
       "      <td>29.50</td>\n",
       "      <td>39.0</td>\n",
       "      <td>44.00</td>\n",
       "      <td>54.0</td>\n",
       "    </tr>\n",
       "    <tr>\n",
       "      <th>Nueva Pensión Invalidez Pagada Enfermedad Laboral</th>\n",
       "      <td>24.0</td>\n",
       "      <td>6.666667e+00</td>\n",
       "      <td>2.869126</td>\n",
       "      <td>2.0</td>\n",
       "      <td>4.00</td>\n",
       "      <td>6.0</td>\n",
       "      <td>9.00</td>\n",
       "      <td>12.0</td>\n",
       "    </tr>\n",
       "    <tr>\n",
       "      <th>Incapacidad Permanente Parcial Pagada por Accidente de Trabajo</th>\n",
       "      <td>24.0</td>\n",
       "      <td>8.194167e+02</td>\n",
       "      <td>85.399784</td>\n",
       "      <td>647.0</td>\n",
       "      <td>781.75</td>\n",
       "      <td>813.5</td>\n",
       "      <td>848.25</td>\n",
       "      <td>1056.0</td>\n",
       "    </tr>\n",
       "    <tr>\n",
       "      <th>Incapacidad Permanente Parcial Pagada por Enfermedad Laboral</th>\n",
       "      <td>24.0</td>\n",
       "      <td>4.322500e+02</td>\n",
       "      <td>58.796074</td>\n",
       "      <td>324.0</td>\n",
       "      <td>392.50</td>\n",
       "      <td>430.0</td>\n",
       "      <td>481.50</td>\n",
       "      <td>555.0</td>\n",
       "    </tr>\n",
       "  </tbody>\n",
       "</table>\n",
       "</div>"
      ],
      "text/plain": [
       "                                                    count          mean  \\\n",
       "Año                                                  24.0  2.017500e+03   \n",
       "Empresas Afiliadas                                   24.0  7.746118e+05   \n",
       "Afiliados Dependientes                               24.0  9.593749e+06   \n",
       "Afiliados Independientes                             24.0  7.527135e+05   \n",
       "Total Afilados                                       24.0  1.034646e+07   \n",
       "Presuntos Accidentes de Trabajo                      24.0  5.831162e+04   \n",
       "Accidentes de Trabajo Calificados                    24.0  5.420838e+04   \n",
       "Presuntas Enfermedades Laborales                     24.0  1.636917e+03   \n",
       "Enfermedades Laborales Calificadas                   24.0  8.374167e+02   \n",
       "Muertes Accidentes de Trabajo Reportadas             24.0  7.070833e+01   \n",
       "Muertes Accidentes de Trabajo Calificadas            24.0  4.687500e+01   \n",
       "Nueva Pensión Invalidez Pagada Accidentes de Tr...   24.0  3.691667e+01   \n",
       "Nueva Pensión Invalidez Pagada Enfermedad Laboral    24.0  6.666667e+00   \n",
       "Incapacidad Permanente Parcial Pagada por Accid...   24.0  8.194167e+02   \n",
       "Incapacidad Permanente Parcial Pagada por Enfer...   24.0  4.322500e+02   \n",
       "\n",
       "                                                              std        min  \\\n",
       "Año                                                      0.510754     2017.0   \n",
       "Empresas Afiliadas                                   37652.018327   710749.0   \n",
       "Afiliados Dependientes                              201284.755249  9193033.0   \n",
       "Afiliados Independientes                            142328.398462   424847.0   \n",
       "Total Afilados                                      305586.667273  9617880.0   \n",
       "Presuntos Accidentes de Trabajo                       4423.635381    49906.0   \n",
       "Accidentes de Trabajo Calificados                     3648.537477    46226.0   \n",
       "Presuntas Enfermedades Laborales                       913.810699      891.0   \n",
       "Enfermedades Laborales Calificadas                     113.609138      592.0   \n",
       "Muertes Accidentes de Trabajo Reportadas                10.071394       48.0   \n",
       "Muertes Accidentes de Trabajo Calificadas               10.613005       27.0   \n",
       "Nueva Pensión Invalidez Pagada Accidentes de Tr...       9.178977       22.0   \n",
       "Nueva Pensión Invalidez Pagada Enfermedad Laboral        2.869126        2.0   \n",
       "Incapacidad Permanente Parcial Pagada por Accid...      85.399784      647.0   \n",
       "Incapacidad Permanente Parcial Pagada por Enfer...      58.796074      324.0   \n",
       "\n",
       "                                                            25%         50%  \\\n",
       "Año                                                     2017.00      2017.5   \n",
       "Empresas Afiliadas                                    743421.50    768441.0   \n",
       "Afiliados Dependientes                               9528782.75   9615192.5   \n",
       "Afiliados Independientes                              657009.75    724984.5   \n",
       "Total Afilados                                      10211400.25  10405973.5   \n",
       "Presuntos Accidentes de Trabajo                        54261.00     58939.5   \n",
       "Accidentes de Trabajo Calificados                      51877.25     54562.5   \n",
       "Presuntas Enfermedades Laborales                        1283.75      1424.0   \n",
       "Enfermedades Laborales Calificadas                       767.50       848.0   \n",
       "Muertes Accidentes de Trabajo Reportadas                  62.75        72.0   \n",
       "Muertes Accidentes de Trabajo Calificadas                 38.00        45.0   \n",
       "Nueva Pensión Invalidez Pagada Accidentes de Tr...        29.50        39.0   \n",
       "Nueva Pensión Invalidez Pagada Enfermedad Laboral          4.00         6.0   \n",
       "Incapacidad Permanente Parcial Pagada por Accid...       781.75       813.5   \n",
       "Incapacidad Permanente Parcial Pagada por Enfer...       392.50       430.0   \n",
       "\n",
       "                                                            75%         max  \n",
       "Año                                                     2018.00      2018.0  \n",
       "Empresas Afiliadas                                    804190.00    832853.0  \n",
       "Afiliados Dependientes                               9760461.25   9852404.0  \n",
       "Afiliados Independientes                              882699.25   1021232.0  \n",
       "Total Afilados                                      10549500.50  10789493.0  \n",
       "Presuntos Accidentes de Trabajo                        61144.50     65718.0  \n",
       "Accidentes de Trabajo Calificados                      56897.25     60255.0  \n",
       "Presuntas Enfermedades Laborales                        1689.25      5645.0  \n",
       "Enfermedades Laborales Calificadas                       926.50      1082.0  \n",
       "Muertes Accidentes de Trabajo Reportadas                  78.25        89.0  \n",
       "Muertes Accidentes de Trabajo Calificadas                 56.00        64.0  \n",
       "Nueva Pensión Invalidez Pagada Accidentes de Tr...        44.00        54.0  \n",
       "Nueva Pensión Invalidez Pagada Enfermedad Laboral          9.00        12.0  \n",
       "Incapacidad Permanente Parcial Pagada por Accid...       848.25      1056.0  \n",
       "Incapacidad Permanente Parcial Pagada por Enfer...       481.50       555.0  "
      ]
     },
     "execution_count": 333,
     "metadata": {},
     "output_type": "execute_result"
    }
   ],
   "source": [
    "df.describe().transpose()"
   ]
  },
  {
   "cell_type": "code",
   "execution_count": 151,
   "metadata": {},
   "outputs": [
    {
     "name": "stdout",
     "output_type": "stream",
     "text": [
      "Mes: 0\n",
      "Año: 0\n",
      "Empresas Afiliadas: 0\n",
      "Afiliados Dependientes: 0\n",
      "Afiliados Independientes: 0\n",
      "Total Afilados: 0\n",
      "Presuntos Accidentes de Trabajo: 0\n",
      "Accidentes de Trabajo Calificados: 0\n",
      "Presuntas Enfermedades Laborales: 0\n",
      "Enfermedades Laborales Calificadas: 0\n",
      "Muertes Accidentes de Trabajo Reportadas: 0\n",
      "Muertes Enfermedades Laborales Reportadas: 0\n",
      "Muertes Accidentes de Trabajo Calificadas: 0\n",
      "Muertes Enfermedades Laborales Calificadas: 0\n",
      "Nueva Pensión Invalidez Pagada Accidentes de Trabajo: 0\n",
      "Nueva Pensión Invalidez Pagada Enfermedad Laboral: 0\n",
      "Incapacidad Permanente Parcial Pagada por Accidente de Trabajo: 0\n",
      "Incapacidad Permanente Parcial Pagada por Enfermedad Laboral: 0\n"
     ]
    }
   ],
   "source": [
    "for x in df.columns:\n",
    "    print(str(x) + \": \"+ str(df[x].isna().sum()))"
   ]
  },
  {
   "cell_type": "code",
   "execution_count": 152,
   "metadata": {},
   "outputs": [
    {
     "data": {
      "text/plain": [
       "Mes                                                               0\n",
       "Año                                                               0\n",
       "Empresas Afiliadas                                                0\n",
       "Afiliados Dependientes                                            0\n",
       "Afiliados Independientes                                          0\n",
       "Total Afilados                                                    0\n",
       "Presuntos Accidentes de Trabajo                                   0\n",
       "Accidentes de Trabajo Calificados                                 0\n",
       "Presuntas Enfermedades Laborales                                  0\n",
       "Enfermedades Laborales Calificadas                                0\n",
       "Muertes Accidentes de Trabajo Reportadas                          0\n",
       "Muertes Enfermedades Laborales Reportadas                         0\n",
       "Muertes Accidentes de Trabajo Calificadas                         0\n",
       "Muertes Enfermedades Laborales Calificadas                        0\n",
       "Nueva Pensión Invalidez Pagada Accidentes de Trabajo              0\n",
       "Nueva Pensión Invalidez Pagada Enfermedad Laboral                 0\n",
       "Incapacidad Permanente Parcial Pagada por Accidente de Trabajo    0\n",
       "Incapacidad Permanente Parcial Pagada por Enfermedad Laboral      0\n",
       "dtype: int64"
      ]
     },
     "execution_count": 152,
     "metadata": {},
     "output_type": "execute_result"
    }
   ],
   "source": [
    "df.isnull().sum()"
   ]
  },
  {
   "cell_type": "code",
   "execution_count": 153,
   "metadata": {},
   "outputs": [],
   "source": [
    "df['Mes'] = df['Mes'].replace(to_replace =\"FREBRERO\",  \n",
    "                            value =\"FEBRERO\") "
   ]
  },
  {
   "cell_type": "code",
   "execution_count": 155,
   "metadata": {},
   "outputs": [],
   "source": [
    "df_groupby = df.groupby('Mes')['Empresas Afiliadas'].mean()"
   ]
  },
  {
   "cell_type": "code",
   "execution_count": 156,
   "metadata": {},
   "outputs": [],
   "source": [
    "month_order ={\n",
    "    'ENERO':1,\n",
    "    'FEBRERO':2,\n",
    "    'MARZO':3,\n",
    "    'ABRIL':4,\n",
    "    'MAYO':5,\n",
    "    'JUNIO':6,\n",
    "    'JULIO':7,\n",
    "    'AGOSTO':8,\n",
    "    'SEPTIEMBRE':9,\n",
    "    'OCTUBRE':10,\n",
    "    'NOVIEMBRE':11,\n",
    "    'DICIEMBRE':12\n",
    "}"
   ]
  },
  {
   "cell_type": "code",
   "execution_count": 158,
   "metadata": {},
   "outputs": [
    {
     "data": {
      "text/plain": [
       "<matplotlib.axes._subplots.AxesSubplot at 0x2a2fb5b5080>"
      ]
     },
     "execution_count": 158,
     "metadata": {},
     "output_type": "execute_result"
    },
    {
     "data": {
      "image/png": "[encoded data removed]",
      "text/plain": [
       "<Figure size 432x288 with 1 Axes>"
      ]
     },
     "metadata": {
      "needs_background": "light"
     },
     "output_type": "display_data"
    }
   ],
   "source": [
    "df_groupby.loc[month_order].plot(kind='bar')\n",
    "#Promedio de empresas afiliadas por mes, es claro una tendencia incremental a lo largo del año"
   ]
  },
  {
   "cell_type": "code",
   "execution_count": 183,
   "metadata": {},
   "outputs": [
    {
     "data": {
      "text/plain": [
       "<matplotlib.axes._subplots.AxesSubplot at 0x2a2fea49c18>"
      ]
     },
     "execution_count": 183,
     "metadata": {},
     "output_type": "execute_result"
    },
    {
     "data": {
      "image/png": "[encoded data removed]",
      "text/plain": [
       "<Figure size 432x288 with 1 Axes>"
      ]
     },
     "metadata": {
      "needs_background": "light"
     },
     "output_type": "display_data"
    }
   ],
   "source": [
    "df['Empresas Afiliadas'].plot(kind='box')\n",
    "df['Empresas Afiliadas'].plot.box(title = 'Número de empresas afiliadas en Colombia año 2017-2018')\n",
    "#diagrama de caja y bigotes, Número de empresas afiliadas en Colombia año 2017-2018"
   ]
  },
  {
   "cell_type": "code",
   "execution_count": 332,
   "metadata": {},
   "outputs": [
    {
     "data": {
      "text/plain": [
       "<matplotlib.axes._subplots.AxesSubplot at 0x2a2ff7adc18>"
      ]
     },
     "execution_count": 332,
     "metadata": {},
     "output_type": "execute_result"
    },
    {
     "data": {
      "image/png": "[encoded data removed]",
      "text/plain": [
       "<Figure size 432x288 with 1 Axes>"
      ]
     },
     "metadata": {
      "needs_background": "light"
     },
     "output_type": "display_data"
    }
   ],
   "source": [
    "df['Empresas Afiliadas'].plot(kind='kde')\n",
    "df['Empresas Afiliadas'].plot.kde(title = 'Densidad de probabilidad no paramétrica estimada Número de Empresas afiliadas 2017-2018')\n",
    "#kde: non-parametric way to estimate the probability density function of a random variable"
   ]
  },
  {
   "cell_type": "code",
   "execution_count": 160,
   "metadata": {},
   "outputs": [
    {
     "data": {
      "image/png": "[encoded data removed]",
      "text/plain": [
       "<Figure size 432x288 with 1 Axes>"
      ]
     },
     "metadata": {
      "needs_background": "light"
     },
     "output_type": "display_data"
    }
   ],
   "source": [
    "g = sns.barplot(df_groupby.loc[month_order].index, df_groupby.loc[month_order].values)\n",
    "g.set_xticklabels(df['Mes'], rotation=30)\n",
    "g.set(ylabel='Promedio de empresas afiliadas en Colombia')\n",
    "plt.show()\n",
    "#fancy bar plot"
   ]
  },
  {
   "cell_type": "code",
   "execution_count": 188,
   "metadata": {},
   "outputs": [],
   "source": [
    "df_groupby_año = df.groupby('Año')['Empresas Afiliadas'].mean()"
   ]
  },
  {
   "cell_type": "code",
   "execution_count": 214,
   "metadata": {},
   "outputs": [
    {
     "data": {
      "text/plain": [
       "Año\n",
       "2017    742770.166667\n",
       "2018    806453.416667\n",
       "Name: Empresas Afiliadas, dtype: float64"
      ]
     },
     "execution_count": 214,
     "metadata": {},
     "output_type": "execute_result"
    }
   ],
   "source": [
    "df_groupby_año #realmente es un pd series"
   ]
  },
  {
   "cell_type": "code",
   "execution_count": 213,
   "metadata": {},
   "outputs": [
    {
     "data": {
      "image/png": "[encoded data removed]",
      "text/plain": [
       "<Figure size 432x288 with 1 Axes>"
      ]
     },
     "metadata": {
      "needs_background": "light"
     },
     "output_type": "display_data"
    },
    {
     "name": "stdout",
     "output_type": "stream",
     "text": [
      "El incremento del promedio entre años fue de 8.573749035423923 %\n"
     ]
    }
   ],
   "source": [
    "g = sns.barplot(df_groupby_año.index, df_groupby_año.values)\n",
    "g.set(ylabel='Promedio de empresas afiliadas en Colombia')\n",
    "plt.show()\n",
    "print('El incremento del promedio entre años fue del {} %'.format(((df_groupby_año.values[1]-df_groupby_año.values[0])/df_groupby_año.values[0])*100))\n",
    "#Se muestra un incremento entre el año 2017 y 2018, en el promedio de empresas afiliadas en Colombia"
   ]
  },
  {
   "cell_type": "code",
   "execution_count": 234,
   "metadata": {},
   "outputs": [],
   "source": [
    "diferencias_entre_meses_emp_afiliadas = []\n",
    "for i in df.index:\n",
    "    if i == 0:\n",
    "        diferencias_entre_meses_emp_afiliadas.append(0)\n",
    "    else:\n",
    "        diferencias_entre_meses_emp_afiliadas.append(((df['Empresas Afiliadas'].iloc[i] - df['Empresas Afiliadas'].iloc[i-1])/df['Empresas Afiliadas'].iloc[i-1])*100)"
   ]
  },
  {
   "cell_type": "code",
   "execution_count": 236,
   "metadata": {},
   "outputs": [
    {
     "data": {
      "image/png": "[encoded data removed]",
      "text/plain": [
       "<Figure size 432x288 with 1 Axes>"
      ]
     },
     "metadata": {
      "needs_background": "light"
     },
     "output_type": "display_data"
    }
   ],
   "source": [
    "gx = sns.barplot(df['Mes'].index, diferencias_entre_meses_emp_afiliadas)\n",
    "gx.set_xticklabels(df['Mes'], rotation=90)\n",
    "gx.set(ylabel='% incremento/decremento respecto al mes anterior')\n",
    "plt.show()"
   ]
  },
  {
   "cell_type": "code",
   "execution_count": 241,
   "metadata": {},
   "outputs": [
    {
     "data": {
      "text/plain": [
       "<seaborn.axisgrid.FacetGrid at 0x2a2ff243b70>"
      ]
     },
     "execution_count": 241,
     "metadata": {},
     "output_type": "execute_result"
    },
    {
     "data": {
      "image/png": "[encoded data removed]",
      "text/plain": [
       "<Figure size 458.25x360 with 1 Axes>"
      ]
     },
     "metadata": {
      "needs_background": "light"
     },
     "output_type": "display_data"
    }
   ],
   "source": [
    "#Análisis de correlación \n",
    "sns.relplot(x=\"Accidentes de Trabajo Calificados\", y=\"Muertes Accidentes de Trabajo Reportadas\", hue=\"Mes\", data=df)\n",
    "#No se puede vislumbrar correlación entre estas dos variables"
   ]
  },
  {
   "cell_type": "code",
   "execution_count": 280,
   "metadata": {},
   "outputs": [
    {
     "name": "stderr",
     "output_type": "stream",
     "text": [
      "C:\\Users\\PCMASTER\\Anaconda3\\lib\\site-packages\\ipykernel_launcher.py:2: SettingWithCopyWarning: \n",
      "A value is trying to be set on a copy of a slice from a DataFrame.\n",
      "Try using .loc[row_indexer,col_indexer] = value instead\n",
      "\n",
      "See the caveats in the documentation: http://pandas.pydata.org/pandas-docs/stable/indexing.html#indexing-view-versus-copy\n",
      "  \n",
      "C:\\Users\\PCMASTER\\Anaconda3\\lib\\site-packages\\ipykernel_launcher.py:3: SettingWithCopyWarning: \n",
      "A value is trying to be set on a copy of a slice from a DataFrame.\n",
      "Try using .loc[row_indexer,col_indexer] = value instead\n",
      "\n",
      "See the caveats in the documentation: http://pandas.pydata.org/pandas-docs/stable/indexing.html#indexing-view-versus-copy\n",
      "  This is separate from the ipykernel package so we can avoid doing imports until\n",
      "C:\\Users\\PCMASTER\\Anaconda3\\lib\\site-packages\\ipykernel_launcher.py:4: SettingWithCopyWarning: \n",
      "A value is trying to be set on a copy of a slice from a DataFrame.\n",
      "Try using .loc[row_indexer,col_indexer] = value instead\n",
      "\n",
      "See the caveats in the documentation: http://pandas.pydata.org/pandas-docs/stable/indexing.html#indexing-view-versus-copy\n",
      "  after removing the cwd from sys.path.\n"
     ]
    }
   ],
   "source": [
    "df_catplot = df[['Mes', 'Muertes Enfermedades Laborales Reportadas']]\n",
    "df_catplot['Muertes Enfermedades Laborales Reportadas'] = df_catplot['Muertes Enfermedades Laborales Reportadas'].replace('-', 0)\n",
    "df_catplot['Muertes Enfermedades Laborales Reportadas'] = df_catplot['Muertes Enfermedades Laborales Reportadas'].replace('- 0', 0)\n",
    "df_catplot['Muertes Enfermedades Laborales Reportadas'] = df_catplot['Muertes Enfermedades Laborales Reportadas'].astype('int32')"
   ]
  },
  {
   "cell_type": "code",
   "execution_count": 281,
   "metadata": {},
   "outputs": [],
   "source": [
    "df_catplot = df_catplot.groupby('Mes')['Muertes Enfermedades Laborales Reportadas'].sum()"
   ]
  },
  {
   "cell_type": "code",
   "execution_count": 331,
   "metadata": {},
   "outputs": [
    {
     "data": {
      "text/plain": [
       "<matplotlib.axes._subplots.AxesSubplot at 0x2a2ffbeb9e8>"
      ]
     },
     "execution_count": 331,
     "metadata": {},
     "output_type": "execute_result"
    },
    {
     "data": {
      "image/png": "[encoded data removed]",
      "text/plain": [
       "<Figure size 1440x720 with 1 Axes>"
      ]
     },
     "metadata": {},
     "output_type": "display_data"
    }
   ],
   "source": [
    "df_catplot.loc[month_order].plot(figsize=(20,10) ,kind='pie', autopct='%1.1f%%', startangle=90, shadow=False,legend = False, fontsize=10)\n",
    "#% de Muertes por EL reportadas, el mes de octubre posee una mayor porporción"
   ]
  }
 ],
 "metadata": {
  "kernelspec": {
   "display_name": "Python 3",
   "language": "python",
   "name": "python3"
  },
  "language_info": {
   "codemirror_mode": {
    "name": "ipython",
    "version": 3
   },
   "file_extension": ".py",
   "mimetype": "text/x-python",
   "name": "python",
   "nbconvert_exporter": "python",
   "pygments_lexer": "ipython3",
   "version": "3.7.3"
  }
 },
 "nbformat": 4,
 "nbformat_minor": 2
}
